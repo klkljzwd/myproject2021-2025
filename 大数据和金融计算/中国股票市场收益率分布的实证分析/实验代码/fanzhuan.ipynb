{
 "cells": [
  {
   "cell_type": "code",
   "execution_count": 9,
   "metadata": {},
   "outputs": [],
   "source": [
    "import pandas as pd\n",
    "import numpy as np"
   ]
  },
  {
   "cell_type": "code",
   "execution_count": 11,
   "metadata": {},
   "outputs": [],
   "source": [
    "df1 = pd.read_excel('data\\data3\\RESSET_MRESSTK_20240314142614\\RESSET_MRESSTK_1.xls',usecols=[0,2,3])\n",
    "df1.columns = ['code','date','close']\n",
    "df1['date']=pd.to_datetime(df1['date'])\n",
    "cols1 = np.unique(df1['code'])\n"
   ]
  }
 ],
 "metadata": {
  "kernelspec": {
   "display_name": "pytorch",
   "language": "python",
   "name": "python3"
  },
  "language_info": {
   "codemirror_mode": {
    "name": "ipython",
    "version": 3
   },
   "file_extension": ".py",
   "mimetype": "text/x-python",
   "name": "python",
   "nbconvert_exporter": "python",
   "pygments_lexer": "ipython3",
   "version": "3.10.0"
  }
 },
 "nbformat": 4,
 "nbformat_minor": 2
}
